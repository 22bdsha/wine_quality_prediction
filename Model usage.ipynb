{
 "cells": [
  {
   "cell_type": "code",
   "execution_count": 1,
   "id": "075d6e20-3915-48b5-8058-b6979b3e9bdf",
   "metadata": {},
   "outputs": [],
   "source": [
    "from joblib import dump , load\n",
    "import numpy as np\n",
    "model_tr = load('T2.joblib')"
   ]
  },
  {
   "cell_type": "code",
   "execution_count": 3,
   "id": "9a6e7ff7-e86b-45e0-82f0-83977222f09a",
   "metadata": {},
   "outputs": [
    {
     "name": "stdout",
     "output_type": "stream",
     "text": [
      "GOOD QUALITY WINE\n"
     ]
    }
   ],
   "source": [
    "input_data = (7.8,0.32,0.44,2.7,0.10400000000000001,8.0,17.0,0.9973200000000001,3.33,0.78,11.0)\n",
    "features = np.asarray(input_data)\n",
    "res =features.reshape(1, -1)\n",
    "val=model_tr.predict(res)\n",
    "output = 'GOOD QUALITY WINE' if val==1 else 'BAD QUALITY WINE' \n",
    "print(output)"
   ]
  },
  {
   "cell_type": "code",
   "execution_count": null,
   "id": "62e8c4c5-1b96-41e6-83f6-5e5ca8d5e143",
   "metadata": {},
   "outputs": [],
   "source": []
  },
  {
   "cell_type": "code",
   "execution_count": null,
   "id": "5a78d77a-84cc-4b4d-a44b-20b0d8235e38",
   "metadata": {},
   "outputs": [],
   "source": []
  }
 ],
 "metadata": {
  "kernelspec": {
   "display_name": "Python 3 (ipykernel)",
   "language": "python",
   "name": "python3"
  },
  "language_info": {
   "codemirror_mode": {
    "name": "ipython",
    "version": 3
   },
   "file_extension": ".py",
   "mimetype": "text/x-python",
   "name": "python",
   "nbconvert_exporter": "python",
   "pygments_lexer": "ipython3",
   "version": "3.12.1"
  }
 },
 "nbformat": 4,
 "nbformat_minor": 5
}
