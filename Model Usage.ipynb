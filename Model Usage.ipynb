{
 "cells": [
  {
   "cell_type": "code",
   "execution_count": 1,
   "id": "1d923dc8-2885-4745-859c-439334535786",
   "metadata": {},
   "outputs": [],
   "source": [
    "from joblib import dump , load\n",
    "import numpy as np\n",
    "model_tr = load('T2.joblib')"
   ]
  },
  {
   "cell_type": "code",
   "execution_count": 2,
   "id": "9f8a80da-d56a-4250-9902-29f701916f2b",
   "metadata": {},
   "outputs": [
    {
     "name": "stdout",
     "output_type": "stream",
     "text": [
      "GOOD QUALITY WINE\n"
     ]
    }
   ],
   "source": [
    "input_data = (7.8,0.32,0.44,2.7,0.10400000000000001,8.0,17.0,0.9973200000000001,3.33,0.78,11.0)\n",
    "features = np.asarray(input_data)\n",
    "res =features.reshape(1, -1)\n",
    "val=model_tr.predict(res)\n",
    "output = 'GOOD QUALITY WINE' if val==1 else 'BAD QUALITY WINE' \n",
    "print(output)"
   ]
  },
  {
   "cell_type": "code",
   "execution_count": null,
   "id": "d6ca82a9-c02a-4880-a675-7b2f53c370cf",
   "metadata": {},
   "outputs": [],
   "source": []
  }
 ],
 "metadata": {
  "kernelspec": {
   "display_name": "Python 3 (ipykernel)",
   "language": "python",
   "name": "python3"
  },
  "language_info": {
   "codemirror_mode": {
    "name": "ipython",
    "version": 3
   },
   "file_extension": ".py",
   "mimetype": "text/x-python",
   "name": "python",
   "nbconvert_exporter": "python",
   "pygments_lexer": "ipython3",
   "version": "3.12.1"
  }
 },
 "nbformat": 4,
 "nbformat_minor": 5
}
